{
 "cells": [
  {
   "cell_type": "code",
   "execution_count": 27,
   "metadata": {},
   "outputs": [
    {
     "data": {
      "text/html": [
       "<svg width=\"300\" height=\"150\" style=\"fill:none; stroke-linecap:round;\">\n",
       "    <rect width=\"100%\" height=\"100%\" fill=\"#F3F3F7\" />\n",
       "\n",
       "\n",
       "<path stroke=\"#663399\" stroke-width=\"2\" d=\"M 150,75 230,75 230,35 150,35 150,75 200,75 225,118.3 275,118.3 300,161.6\" />'\n",
       "\n",
       "<g transform=\"rotate(-90.0,300.0,161.6) translate(300.0, 161.6)\">\n",
       "    <circle stroke=\"#63A375\" stroke-width=\"2\" fill=\"transparent\" r=\"5.5\" cx=\"0\" cy=\"0\"/>\n",
       "    <polygon points=\"0,12 2,9 -2,9\" style=\"fill:#63A375;stroke:#63A375;stroke-width:2\"/>\n",
       "</g>\n",
       "\n",
       "</svg>"
      ],
      "text/plain": [
       "<IPython.core.display.HTML object>"
      ]
     },
     "metadata": {},
     "output_type": "display_data"
    }
   ],
   "source": [
    "from jupyturtle import * \n",
    "# This is a Python import statement that brings all the public names \n",
    "# (functions, classes, variables, etc.) defined in the jupyturtle module \n",
    "# into the current namespace. In other words, it makes everything from \n",
    "# jupyturtle directly accessible without needing to prefix it with the \n",
    "# module name (e.g., you could just write forward(50) instead of jupyturtle.forward(50))\n",
    "\n",
    "\n",
    "\n",
    "\n",
    "def rectangle(length_a=80, length_b=40, angle=90):\n",
    "    make_turtle()\n",
    "    for n in range(2):\n",
    "        forward(length_a)\n",
    "        left(angle)\n",
    "        forward(length_b)\n",
    "        left(angle)\n",
    "\n",
    "\n",
    "rectangle()"
   ]
  },
  {
   "cell_type": "code",
   "execution_count": 32,
   "metadata": {},
   "outputs": [
    {
     "data": {
      "text/html": [
       "<svg width=\"300\" height=\"150\" style=\"fill:none; stroke-linecap:round;\">\n",
       "    <rect width=\"100%\" height=\"100%\" fill=\"#F3F3F7\" />\n",
       "\n",
       "\n",
       "<path stroke=\"#663399\" stroke-width=\"2\" d=\"M 150,75 175,31.7 125,31.7 100,75 150,75\" />'\n",
       "\n",
       "<g transform=\"rotate(-90.0,150.0,75.0) translate(150.0, 75.0)\">\n",
       "    <circle stroke=\"#63A375\" stroke-width=\"2\" fill=\"transparent\" r=\"5.5\" cx=\"0\" cy=\"0\"/>\n",
       "    <polygon points=\"0,12 2,9 -2,9\" style=\"fill:#63A375;stroke:#63A375;stroke-width:2\"/>\n",
       "</g>\n",
       "\n",
       "</svg>"
      ],
      "text/plain": [
       "<IPython.core.display.HTML object>"
      ]
     },
     "metadata": {},
     "output_type": "display_data"
    }
   ],
   "source": [
    "\n",
    "def rhombus(side_length=50, interior_angle=60):\n",
    "    make_turtle(delay=0.02)\n",
    "    for n in range(2):\n",
    "        left(interior_angle)\n",
    "        forward(side_length)\n",
    "        left(180 - interior_angle)\n",
    "        forward(side_length)\n",
    "\n",
    "rhombus()\n",
    "\n"
   ]
  },
  {
   "cell_type": "code",
   "execution_count": 33,
   "metadata": {},
   "outputs": [
    {
     "data": {
      "text/html": [
       "<svg width=\"300\" height=\"150\" style=\"fill:none; stroke-linecap:round;\">\n",
       "    <rect width=\"100%\" height=\"100%\" fill=\"#F3F3F7\" />\n",
       "\n",
       "\n",
       "<path stroke=\"#663399\" stroke-width=\"2\" d=\"M 150,75 230,75 250,40.4 170,40.4 150,75\" />'\n",
       "\n",
       "<g transform=\"rotate(-90.0,150.0,75.0) translate(150.0, 75.0)\">\n",
       "    <circle stroke=\"#63A375\" stroke-width=\"2\" fill=\"transparent\" r=\"5.5\" cx=\"0\" cy=\"0\"/>\n",
       "    <polygon points=\"0,12 2,9 -2,9\" style=\"fill:#63A375;stroke:#63A375;stroke-width:2\"/>\n",
       "</g>\n",
       "\n",
       "</svg>"
      ],
      "text/plain": [
       "<IPython.core.display.HTML object>"
      ]
     },
     "metadata": {},
     "output_type": "display_data"
    }
   ],
   "source": [
    "def parallelogram(side_a=80, side_b = 40, interior_angle=60):\n",
    "    make_turtle()\n",
    "    \n",
    "    for n in range(2):\n",
    "       \n",
    "        forward(side_a)\n",
    "        left(interior_angle)\n",
    "        forward(side_b)\n",
    "        left(180 - interior_angle)\n",
    "        \n",
    "\n",
    "parallelogram()\n"
   ]
  },
  {
   "cell_type": "code",
   "execution_count": 34,
   "metadata": {},
   "outputs": [
    {
     "data": {
      "text/html": [
       "<svg width=\"300\" height=\"150\" style=\"fill:none; stroke-linecap:round;\">\n",
       "    <rect width=\"100%\" height=\"100%\" fill=\"#F3F3F7\" />\n",
       "\n",
       "\n",
       "<path stroke=\"#663399\" stroke-width=\"2\" d=\"M 150,75 220,75 220,35 150,35 150,75\" />'\n",
       "\n",
       "<g transform=\"rotate(-90.0,150.0,75.0) translate(150.0, 75.0)\">\n",
       "    <circle stroke=\"#63A375\" stroke-width=\"2\" fill=\"transparent\" r=\"5.5\" cx=\"0\" cy=\"0\"/>\n",
       "    <polygon points=\"0,12 2,9 -2,9\" style=\"fill:#63A375;stroke:#63A375;stroke-width:2\"/>\n",
       "</g>\n",
       "\n",
       "</svg>"
      ],
      "text/plain": [
       "<IPython.core.display.HTML object>"
      ]
     },
     "metadata": {},
     "output_type": "display_data"
    },
    {
     "data": {
      "text/html": [
       "<svg width=\"300\" height=\"150\" style=\"fill:none; stroke-linecap:round;\">\n",
       "    <rect width=\"100%\" height=\"100%\" fill=\"#F3F3F7\" />\n",
       "\n",
       "\n",
       "<path stroke=\"#663399\" stroke-width=\"2\" d=\"M 150,75 190,75 210,40.4 170,40.4 150,75\" />'\n",
       "\n",
       "<g transform=\"rotate(-90.0,150.0,75.0) translate(150.0, 75.0)\">\n",
       "    <circle stroke=\"#63A375\" stroke-width=\"2\" fill=\"transparent\" r=\"5.5\" cx=\"0\" cy=\"0\"/>\n",
       "    <polygon points=\"0,12 2,9 -2,9\" style=\"fill:#63A375;stroke:#63A375;stroke-width:2\"/>\n",
       "</g>\n",
       "\n",
       "</svg>"
      ],
      "text/plain": [
       "<IPython.core.display.HTML object>"
      ]
     },
     "metadata": {},
     "output_type": "display_data"
    }
   ],
   "source": [
    "#rewriting rectangle and rhombus functions using parallelogram function - this is called refactoring\n",
    "\n",
    "def rectangle(length_a=80, length_b=40):\n",
    "    parallelogram(length_a,length_b, 90)\n",
    "\n",
    "\n",
    "def rhombus(length, angle):\n",
    "    parallelogram(length, length, angle)\n",
    "\n",
    "#calling examples:\n",
    "\n",
    "rectangle(70)\n",
    "rhombus(40,60)"
   ]
  },
  {
   "cell_type": "code",
   "execution_count": 3,
   "metadata": {},
   "outputs": [
    {
     "data": {
      "text/html": [
       "<svg width=\"300\" height=\"150\" style=\"fill:none; stroke-linecap:round;\">\n",
       "    <rect width=\"100%\" height=\"100%\" fill=\"#F3F3F7\" />\n",
       "\n",
       "\n",
       "<path stroke=\"#663399\" stroke-width=\"2\" d=\"M 150,75 200,75 170.4,39.7 150,75\" />'\n",
       "\n",
       "<g transform=\"rotate(-90.0,150.0,75.0) translate(150.0, 75.0)\">\n",
       "    <circle stroke=\"#63A375\" stroke-width=\"2\" fill=\"transparent\" r=\"5.5\" cx=\"0\" cy=\"0\"/>\n",
       "    <polygon points=\"0,12 2,9 -2,9\" style=\"fill:#63A375;stroke:#63A375;stroke-width:2\"/>\n",
       "</g>\n",
       "\n",
       "</svg>"
      ],
      "text/plain": [
       "<IPython.core.display.HTML object>"
      ]
     },
     "metadata": {},
     "output_type": "display_data"
    }
   ],
   "source": [
    "import math\n",
    "from jupyturtle import *\n",
    "\n",
    "def triangle(angle1=60, angle2=60, scale=50):\n",
    "\n",
    "    #docstring below:\n",
    "    \"\"\"\n",
    "    Draw a triangle based on the given angles.\n",
    "    Uses an arbitrary scaling factor to calculate side lengths.\n",
    "    \n",
    "    angle1, angle2: Angles of the triangle in degrees (adding up to less than 180)\n",
    "    scale: A scaling factor to set the size of the triangle (default is 50)\n",
    "    \"\"\"\n",
    "    # Check if angles are valid\n",
    "    if angle1 <= 0 or angle2 <= 0 or angle1 + angle2 >= 180:\n",
    "        print(\"Error: Angles must be positive and sum to less than 180 degrees\")\n",
    "        return\n",
    "    \n",
    "    # Calculate angle3\n",
    "    angle3 = 180 - (angle1 + angle2)\n",
    "\n",
    "    # Convert angles to radians\n",
    "    angle1_rad = math.radians(angle1)\n",
    "    angle2_rad = math.radians(angle2)\n",
    "    angle3_rad = math.radians(angle3)  # Corrected to use angle3 directly\n",
    "    \n",
    "    # Set first side as scale\n",
    "    side1 = scale\n",
    "    \n",
    "    # Calculate second side using Law of Sines\n",
    "    side2 = side1 * math.sin(angle1_rad) / math.sin(angle3_rad)  # Opposite to angle1\n",
    "    \n",
    "    # Calculate third side using Law of Sines\n",
    "    side3 = side1 * math.sin(angle2_rad) / math.sin(angle3_rad)  # Opposite to angle2\n",
    "    \n",
    "    # Draw the triangle\n",
    "    #pen_down()\n",
    "    forward(side1)          # Draw first side (AB)\n",
    "    left(180 - angle2)     # Turn at B for second side\n",
    "    forward(side2)         # Draw second side (BC)\n",
    "    left(180 - angle3)     # Turn at C for third side\n",
    "    forward(side3)         # Draw third side (CA), closing the triangle\n",
    "    left(180 - angle1)      #back to original facing\n",
    "    \n",
    "make_turtle(delay=0.5)\n",
    "triangle(60, 50)"
   ]
  },
  {
   "cell_type": "code",
   "execution_count": 4,
   "metadata": {},
   "outputs": [
    {
     "data": {
      "text/html": [
       "<svg width=\"300\" height=\"150\" style=\"fill:none; stroke-linecap:round;\">\n",
       "    <rect width=\"100%\" height=\"100%\" fill=\"#F3F3F7\" />\n",
       "\n",
       "\n",
       "<path stroke=\"#663399\" stroke-width=\"2\" d=\"M 150,75 181.2,114.1 200,75 150,75 138.9,123.7 181.2,114.1 150,75 105,96.7 138.9,123.7 150,75 105,53.3 105,96.7 150,75 138.9,26.3 105,53.3 150,75 181.2,35.9 138.9,26.3 150,75 200,75 181.2,35.9 150,75\" />'\n",
       "\n",
       "<g transform=\"rotate(-90.0,150.0,75.0) translate(150.0, 75.0)\">\n",
       "    <circle stroke=\"#63A375\" stroke-width=\"2\" fill=\"transparent\" r=\"5.5\" cx=\"0\" cy=\"0\"/>\n",
       "    <polygon points=\"0,12 2,9 -2,9\" style=\"fill:#63A375;stroke:#63A375;stroke-width:2\"/>\n",
       "</g>\n",
       "\n",
       "</svg>"
      ],
      "text/plain": [
       "<IPython.core.display.HTML object>"
      ]
     },
     "metadata": {},
     "output_type": "display_data"
    }
   ],
   "source": [
    "import math\n",
    "from jupyturtle import *\n",
    "\n",
    "def draw_pie(slices=5, radius=50):\n",
    "    \"\"\"\n",
    "    Draw a pie chart with the specified number of equal slices using triangle_multi_params.\n",
    "    \n",
    "    Args:\n",
    "        slices (int): Number of slices (default 5, minimum 3).\n",
    "        radius (int): Radius of the pie (default 50).\n",
    "    \"\"\"\n",
    "    if slices < 3:\n",
    "        print(\"Error: Number of slices must be at least 3\")\n",
    "        return\n",
    "    \n",
    "    # Central angle per slice\n",
    "    theta = 360 / slices\n",
    "    # Base angle of the isosceles triangle\n",
    "    phi = (180 - theta) / 2\n",
    "    \n",
    "    # Draw each slice\n",
    "    for _ in range(slices):\n",
    "        right(theta)  # Set direction for this slice\n",
    "        triangle(angle1=theta, angle2=phi, scale=radius)\n",
    "\n",
    "# Example usage\n",
    "make_turtle(delay=0.5)\n",
    "draw_pie(slices=7)"
   ]
  },
  {
   "cell_type": "code",
   "execution_count": 5,
   "metadata": {},
   "outputs": [
    {
     "data": {
      "text/html": [
       "<svg width=\"300\" height=\"150\" style=\"fill:none; stroke-linecap:round;\">\n",
       "    <rect width=\"100%\" height=\"100%\" fill=\"#F3F3F7\" />\n",
       "\n",
       "\n",
       "<path stroke=\"#663399\" stroke-width=\"2\" d=\"M 150,75 156.5,75 162.8,73.7 168.8,71 174,67.2 178.4,62.4 181.6,56.7 183.6,50.6 184.3,44.1 183.6,37.7 181.6,31.5 178.4,25.9 174,21 168.8,17.2 162.8,14.6 156.5,13.2 150,13.2 143.6,14.6 137.7,17.2 132.5,21 128.1,25.9 124.9,31.5 122.9,37.7 122.2,44.1 122.9,50.6 124.9,56.7 128.1,62.4 132.5,67.2 137.7,71 143.6,73.7 150,75\" />'\n",
       "\n",
       "<g transform=\"rotate(-90.0,150.0,75.0) translate(150.0, 75.0)\">\n",
       "    <circle stroke=\"#63A375\" stroke-width=\"2\" fill=\"transparent\" r=\"5.5\" cx=\"0\" cy=\"0\"/>\n",
       "    <polygon points=\"0,12 2,9 -2,9\" style=\"fill:#63A375;stroke:#63A375;stroke-width:2\"/>\n",
       "</g>\n",
       "\n",
       "</svg>"
      ],
      "text/plain": [
       "<IPython.core.display.HTML object>"
      ]
     },
     "metadata": {},
     "output_type": "display_data"
    }
   ],
   "source": [
    "from math import pi\n",
    "\n",
    "def polygon(n, length):\n",
    "    angle = 360 /n\n",
    "    for i in range(n):\n",
    "        forward(length)\n",
    "        left(angle)\n",
    "\n",
    "def circle(radius):\n",
    "    circumference = 2 * pi * radius\n",
    "    n = 30\n",
    "    length = circumference / n\n",
    "    polygon(n, length)\n",
    "\n",
    "make_turtle(delay=0)\n",
    "circle(31)\n"
   ]
  }
 ],
 "metadata": {
  "kernelspec": {
   "display_name": "base",
   "language": "python",
   "name": "python3"
  },
  "language_info": {
   "codemirror_mode": {
    "name": "ipython",
    "version": 3
   },
   "file_extension": ".py",
   "mimetype": "text/x-python",
   "name": "python",
   "nbconvert_exporter": "python",
   "pygments_lexer": "ipython3",
   "version": "3.12.9"
  }
 },
 "nbformat": 4,
 "nbformat_minor": 2
}
