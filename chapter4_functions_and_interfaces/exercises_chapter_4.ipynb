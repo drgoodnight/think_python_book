{
 "cells": [
  {
   "cell_type": "code",
   "execution_count": 27,
   "metadata": {},
   "outputs": [
    {
     "data": {
      "text/html": [
       "<svg width=\"300\" height=\"150\" style=\"fill:none; stroke-linecap:round;\">\n",
       "    <rect width=\"100%\" height=\"100%\" fill=\"#F3F3F7\" />\n",
       "\n",
       "\n",
       "<path stroke=\"#663399\" stroke-width=\"2\" d=\"M 150,75 230,75 230,35 150,35 150,75 200,75 225,118.3 275,118.3 300,161.6\" />'\n",
       "\n",
       "<g transform=\"rotate(-90.0,300.0,161.6) translate(300.0, 161.6)\">\n",
       "    <circle stroke=\"#63A375\" stroke-width=\"2\" fill=\"transparent\" r=\"5.5\" cx=\"0\" cy=\"0\"/>\n",
       "    <polygon points=\"0,12 2,9 -2,9\" style=\"fill:#63A375;stroke:#63A375;stroke-width:2\"/>\n",
       "</g>\n",
       "\n",
       "</svg>"
      ],
      "text/plain": [
       "<IPython.core.display.HTML object>"
      ]
     },
     "metadata": {},
     "output_type": "display_data"
    }
   ],
   "source": [
    "from jupyturtle import * \n",
    "# This is a Python import statement that brings all the public names \n",
    "# (functions, classes, variables, etc.) defined in the jupyturtle module \n",
    "# into the current namespace. In other words, it makes everything from \n",
    "# jupyturtle directly accessible without needing to prefix it with the \n",
    "# module name (e.g., you could just write forward(50) instead of jupyturtle.forward(50))\n",
    "\n",
    "\n",
    "\n",
    "\n",
    "def rectangle(length_a=80, length_b=40, angle=90):\n",
    "    make_turtle()\n",
    "    for n in range(2):\n",
    "        forward(length_a)\n",
    "        left(angle)\n",
    "        forward(length_b)\n",
    "        left(angle)\n",
    "\n",
    "\n",
    "rectangle()"
   ]
  },
  {
   "cell_type": "code",
   "execution_count": 32,
   "metadata": {},
   "outputs": [
    {
     "data": {
      "text/html": [
       "<svg width=\"300\" height=\"150\" style=\"fill:none; stroke-linecap:round;\">\n",
       "    <rect width=\"100%\" height=\"100%\" fill=\"#F3F3F7\" />\n",
       "\n",
       "\n",
       "<path stroke=\"#663399\" stroke-width=\"2\" d=\"M 150,75 175,31.7 125,31.7 100,75 150,75\" />'\n",
       "\n",
       "<g transform=\"rotate(-90.0,150.0,75.0) translate(150.0, 75.0)\">\n",
       "    <circle stroke=\"#63A375\" stroke-width=\"2\" fill=\"transparent\" r=\"5.5\" cx=\"0\" cy=\"0\"/>\n",
       "    <polygon points=\"0,12 2,9 -2,9\" style=\"fill:#63A375;stroke:#63A375;stroke-width:2\"/>\n",
       "</g>\n",
       "\n",
       "</svg>"
      ],
      "text/plain": [
       "<IPython.core.display.HTML object>"
      ]
     },
     "metadata": {},
     "output_type": "display_data"
    }
   ],
   "source": [
    "\n",
    "def rhombus(side_length=50, interior_angle=60):\n",
    "    make_turtle(delay=0.02)\n",
    "    for n in range(2):\n",
    "        left(interior_angle)\n",
    "        forward(side_length)\n",
    "        left(180 - interior_angle)\n",
    "        forward(side_length)\n",
    "\n",
    "rhombus()\n",
    "\n"
   ]
  },
  {
   "cell_type": "code",
   "execution_count": 33,
   "metadata": {},
   "outputs": [
    {
     "data": {
      "text/html": [
       "<svg width=\"300\" height=\"150\" style=\"fill:none; stroke-linecap:round;\">\n",
       "    <rect width=\"100%\" height=\"100%\" fill=\"#F3F3F7\" />\n",
       "\n",
       "\n",
       "<path stroke=\"#663399\" stroke-width=\"2\" d=\"M 150,75 230,75 250,40.4 170,40.4 150,75\" />'\n",
       "\n",
       "<g transform=\"rotate(-90.0,150.0,75.0) translate(150.0, 75.0)\">\n",
       "    <circle stroke=\"#63A375\" stroke-width=\"2\" fill=\"transparent\" r=\"5.5\" cx=\"0\" cy=\"0\"/>\n",
       "    <polygon points=\"0,12 2,9 -2,9\" style=\"fill:#63A375;stroke:#63A375;stroke-width:2\"/>\n",
       "</g>\n",
       "\n",
       "</svg>"
      ],
      "text/plain": [
       "<IPython.core.display.HTML object>"
      ]
     },
     "metadata": {},
     "output_type": "display_data"
    }
   ],
   "source": [
    "def parallelogram(side_a=80, side_b = 40, interior_angle=60):\n",
    "    make_turtle()\n",
    "    \n",
    "    for n in range(2):\n",
    "       \n",
    "        forward(side_a)\n",
    "        left(interior_angle)\n",
    "        forward(side_b)\n",
    "        left(180 - interior_angle)\n",
    "        \n",
    "\n",
    "parallelogram()\n"
   ]
  },
  {
   "cell_type": "code",
   "execution_count": 34,
   "metadata": {},
   "outputs": [
    {
     "data": {
      "text/html": [
       "<svg width=\"300\" height=\"150\" style=\"fill:none; stroke-linecap:round;\">\n",
       "    <rect width=\"100%\" height=\"100%\" fill=\"#F3F3F7\" />\n",
       "\n",
       "\n",
       "<path stroke=\"#663399\" stroke-width=\"2\" d=\"M 150,75 220,75 220,35 150,35 150,75\" />'\n",
       "\n",
       "<g transform=\"rotate(-90.0,150.0,75.0) translate(150.0, 75.0)\">\n",
       "    <circle stroke=\"#63A375\" stroke-width=\"2\" fill=\"transparent\" r=\"5.5\" cx=\"0\" cy=\"0\"/>\n",
       "    <polygon points=\"0,12 2,9 -2,9\" style=\"fill:#63A375;stroke:#63A375;stroke-width:2\"/>\n",
       "</g>\n",
       "\n",
       "</svg>"
      ],
      "text/plain": [
       "<IPython.core.display.HTML object>"
      ]
     },
     "metadata": {},
     "output_type": "display_data"
    },
    {
     "data": {
      "text/html": [
       "<svg width=\"300\" height=\"150\" style=\"fill:none; stroke-linecap:round;\">\n",
       "    <rect width=\"100%\" height=\"100%\" fill=\"#F3F3F7\" />\n",
       "\n",
       "\n",
       "<path stroke=\"#663399\" stroke-width=\"2\" d=\"M 150,75 190,75 210,40.4 170,40.4 150,75\" />'\n",
       "\n",
       "<g transform=\"rotate(-90.0,150.0,75.0) translate(150.0, 75.0)\">\n",
       "    <circle stroke=\"#63A375\" stroke-width=\"2\" fill=\"transparent\" r=\"5.5\" cx=\"0\" cy=\"0\"/>\n",
       "    <polygon points=\"0,12 2,9 -2,9\" style=\"fill:#63A375;stroke:#63A375;stroke-width:2\"/>\n",
       "</g>\n",
       "\n",
       "</svg>"
      ],
      "text/plain": [
       "<IPython.core.display.HTML object>"
      ]
     },
     "metadata": {},
     "output_type": "display_data"
    }
   ],
   "source": [
    "#rewriting rectangle and rhombus functions using parallelogram function - this is called refactoring\n",
    "\n",
    "def rectangle(length_a=80, length_b=40):\n",
    "    parallelogram(length_a,length_b, 90)\n",
    "\n",
    "\n",
    "def rhombus(length, angle):\n",
    "    parallelogram(length, length, angle)\n",
    "\n",
    "#calling examples:\n",
    "\n",
    "rectangle(70)\n",
    "rhombus(40,60)"
   ]
  },
  {
   "cell_type": "code",
   "execution_count": 18,
   "metadata": {},
   "outputs": [
    {
     "data": {
      "text/html": [
       "<svg width=\"300\" height=\"150\" style=\"fill:none; stroke-linecap:round;\">\n",
       "    <rect width=\"100%\" height=\"100%\" fill=\"#F3F3F7\" />\n",
       "\n",
       "\n",
       "<path stroke=\"#663399\" stroke-width=\"2\" d=\"M 150,75 200,75 204.7,63.4 150,75\" />'\n",
       "\n",
       "<g transform=\"rotate(78.0,150.0,75.0) translate(150.0, 75.0)\">\n",
       "    <circle stroke=\"#63A375\" stroke-width=\"2\" fill=\"transparent\" r=\"5.5\" cx=\"0\" cy=\"0\"/>\n",
       "    <polygon points=\"0,12 2,9 -2,9\" style=\"fill:#63A375;stroke:#63A375;stroke-width:2\"/>\n",
       "</g>\n",
       "\n",
       "</svg>"
      ],
      "text/plain": [
       "<IPython.core.display.HTML object>"
      ]
     },
     "metadata": {},
     "output_type": "display_data"
    }
   ],
   "source": [
    "import math\n",
    "from jupyturtle import *\n",
    "\n",
    "def triangle(angle1=60, angle2=60, scale=50):\n",
    "    \"\"\"\n",
    "    Draw a triangle based on the given angles.\n",
    "    Uses an arbitrary scaling factor to calculate side lengths.\n",
    "    \n",
    "    angle1, angle2: Angles of the triangle in degrees (adding up to less than 180)\n",
    "    scale: A scaling factor to set the size of the triangle (default is 50)\n",
    "    \"\"\"\n",
    "    # Check if angles are valid\n",
    "    if angle1 <= 0 or angle2 <= 0 or angle1 + angle2 >= 180:\n",
    "        print(\"Error: Angles must be positive and sum to less than 180 degrees\")\n",
    "        return\n",
    "    \n",
    "    # Calculate angle3\n",
    "    angle3 = 180 - (angle1 + angle2)\n",
    "\n",
    "    # Convert angles to radians\n",
    "    angle1_rad = math.radians(angle1)\n",
    "    angle2_rad = math.radians(angle2)\n",
    "    angle3_rad = math.radians(angle3)  # Corrected to use angle3 directly\n",
    "    \n",
    "    # Set first side as scale\n",
    "    side1 = scale\n",
    "    \n",
    "    # Calculate second side using Law of Sines\n",
    "    side2 = side1 * math.sin(angle1_rad) / math.sin(angle3_rad)  # Opposite to angle1\n",
    "    \n",
    "    # Calculate third side using Law of Sines\n",
    "    side3 = side1 * math.sin(angle2_rad) / math.sin(angle3_rad)  # Opposite to angle2\n",
    "    \n",
    "    # Draw the triangle\n",
    "    pen_down()\n",
    "    forward(side1)          # Draw first side (AB)\n",
    "    left(180 - angle2)     # Turn at B for second side\n",
    "    forward(side2)         # Draw second side (BC)\n",
    "    left(180 - angle3)     # Turn at C for third side\n",
    "    forward(side3)         # Draw third side (CA), closing the triangle\n",
    "\n",
    "make_turtle()\n",
    "triangle(12, 112)"
   ]
  }
 ],
 "metadata": {
  "kernelspec": {
   "display_name": "base",
   "language": "python",
   "name": "python3"
  },
  "language_info": {
   "codemirror_mode": {
    "name": "ipython",
    "version": 3
   },
   "file_extension": ".py",
   "mimetype": "text/x-python",
   "name": "python",
   "nbconvert_exporter": "python",
   "pygments_lexer": "ipython3",
   "version": "3.12.9"
  }
 },
 "nbformat": 4,
 "nbformat_minor": 2
}
